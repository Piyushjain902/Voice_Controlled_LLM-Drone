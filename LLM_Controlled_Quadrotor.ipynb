{
 "cells": [
  {
   "cell_type": "markdown",
   "metadata": {
    "id": "FxbrbCCyV6Kc"
   },
   "source": [
    "***Installation***"
   ]
  },
  {
   "cell_type": "code",
   "execution_count": 1,
   "metadata": {
    "colab": {
     "base_uri": "https://localhost:8080/"
    },
    "id": "l2sbWDgApiPh",
    "outputId": "9a28c5ae-3159-4d6d-dbdf-679c764d27cb"
   },
   "outputs": [
    {
     "name": "stdout",
     "output_type": "stream",
     "text": [
      "\u001b[?25l     \u001b[90m━━━━━━━━━━━━━━━━━━━━━━━━━━━━━━━━━━━━━━━━\u001b[0m \u001b[32m0.0/803.2 kB\u001b[0m \u001b[31m?\u001b[0m eta \u001b[36m-:--:--\u001b[0m\r",
      "\u001b[2K     \u001b[91m━━━━━━━\u001b[0m\u001b[91m╸\u001b[0m\u001b[90m━━━━━━━━━━━━━━━━━━━━━━━━━━━━━━━\u001b[0m \u001b[32m163.8/803.2 kB\u001b[0m \u001b[31m4.7 MB/s\u001b[0m eta \u001b[36m0:00:01\u001b[0m\r",
      "\u001b[2K     \u001b[91m━━━━━━━━━━━━━━━━━━━━━━━━━━━━━━━━━━━━━\u001b[0m\u001b[91m╸\u001b[0m \u001b[32m798.7/803.2 kB\u001b[0m \u001b[31m13.4 MB/s\u001b[0m eta \u001b[36m0:00:01\u001b[0m\r",
      "\u001b[2K     \u001b[90m━━━━━━━━━━━━━━━━━━━━━━━━━━━━━━━━━━━━━━\u001b[0m \u001b[32m803.2/803.2 kB\u001b[0m \u001b[31m11.1 MB/s\u001b[0m eta \u001b[36m0:00:00\u001b[0m\n",
      "\u001b[?25h  Installing build dependencies ... \u001b[?25l\u001b[?25hdone\n",
      "  Getting requirements to build wheel ... \u001b[?25l\u001b[?25hdone\n",
      "  Preparing metadata (pyproject.toml) ... \u001b[?25l\u001b[?25hdone\n",
      "\u001b[2K   \u001b[90m━━━━━━━━━━━━━━━━━━━━━━━━━━━━━━━━━━━━━━━━\u001b[0m \u001b[32m363.4/363.4 MB\u001b[0m \u001b[31m2.2 MB/s\u001b[0m eta \u001b[36m0:00:00\u001b[0m\n",
      "\u001b[2K   \u001b[90m━━━━━━━━━━━━━━━━━━━━━━━━━━━━━━━━━━━━━━━━\u001b[0m \u001b[32m13.8/13.8 MB\u001b[0m \u001b[31m93.8 MB/s\u001b[0m eta \u001b[36m0:00:00\u001b[0m\n",
      "\u001b[2K   \u001b[90m━━━━━━━━━━━━━━━━━━━━━━━━━━━━━━━━━━━━━━━━\u001b[0m \u001b[32m24.6/24.6 MB\u001b[0m \u001b[31m72.5 MB/s\u001b[0m eta \u001b[36m0:00:00\u001b[0m\n",
      "\u001b[2K   \u001b[90m━━━━━━━━━━━━━━━━━━━━━━━━━━━━━━━━━━━━━━━━\u001b[0m \u001b[32m883.7/883.7 kB\u001b[0m \u001b[31m47.7 MB/s\u001b[0m eta \u001b[36m0:00:00\u001b[0m\n",
      "\u001b[2K   \u001b[90m━━━━━━━━━━━━━━━━━━━━━━━━━━━━━━━━━━━━━━━━\u001b[0m \u001b[32m664.8/664.8 MB\u001b[0m \u001b[31m2.0 MB/s\u001b[0m eta \u001b[36m0:00:00\u001b[0m\n",
      "\u001b[2K   \u001b[90m━━━━━━━━━━━━━━━━━━━━━━━━━━━━━━━━━━━━━━━━\u001b[0m \u001b[32m211.5/211.5 MB\u001b[0m \u001b[31m7.1 MB/s\u001b[0m eta \u001b[36m0:00:00\u001b[0m\n",
      "\u001b[2K   \u001b[90m━━━━━━━━━━━━━━━━━━━━━━━━━━━━━━━━━━━━━━━━\u001b[0m \u001b[32m56.3/56.3 MB\u001b[0m \u001b[31m11.0 MB/s\u001b[0m eta \u001b[36m0:00:00\u001b[0m\n",
      "\u001b[2K   \u001b[90m━━━━━━━━━━━━━━━━━━━━━━━━━━━━━━━━━━━━━━━━\u001b[0m \u001b[32m127.9/127.9 MB\u001b[0m \u001b[31m8.4 MB/s\u001b[0m eta \u001b[36m0:00:00\u001b[0m\n",
      "\u001b[2K   \u001b[90m━━━━━━━━━━━━━━━━━━━━━━━━━━━━━━━━━━━━━━━━\u001b[0m \u001b[32m207.5/207.5 MB\u001b[0m \u001b[31m5.8 MB/s\u001b[0m eta \u001b[36m0:00:00\u001b[0m\n",
      "\u001b[2K   \u001b[90m━━━━━━━━━━━━━━━━━━━━━━━━━━━━━━━━━━━━━━━━\u001b[0m \u001b[32m21.1/21.1 MB\u001b[0m \u001b[31m41.1 MB/s\u001b[0m eta \u001b[36m0:00:00\u001b[0m\n",
      "\u001b[?25h  Building wheel for openai-whisper (pyproject.toml) ... \u001b[?25l\u001b[?25hdone\n",
      "Reading package lists... Done\n",
      "Building dependency tree... Done\n",
      "Reading state information... Done\n",
      "ffmpeg is already the newest version (7:4.4.2-0ubuntu0.22.04.1).\n",
      "0 upgraded, 0 newly installed, 0 to remove and 35 not upgraded.\n"
     ]
    }
   ],
   "source": [
    "!pip install -q openai-whisper\n",
    "!sudo apt-get install -y ffmpeg\n"
   ]
  },
  {
   "cell_type": "markdown",
   "metadata": {
    "id": "-P3mK4ksV_vL"
   },
   "source": [
    "#Taking Voice Command from User And Converting into Raw Text"
   ]
  },
  {
   "cell_type": "code",
   "execution_count": 2,
   "metadata": {
    "colab": {
     "base_uri": "https://localhost:8080/"
    },
    "id": "0W5FaXjgsxRA",
    "outputId": "6b1cccd3-7e67-4c3b-a1d6-ff484bafe7e9"
   },
   "outputs": [
    {
     "name": "stderr",
     "output_type": "stream",
     "text": [
      "100%|███████████████████████████████████████| 139M/139M [00:02<00:00, 61.9MiB/s]\n"
     ]
    },
    {
     "name": "stdout",
     "output_type": "stream",
     "text": [
      "Raw Transcription:  Drone, take off and after that move forward and then hold there.\n"
     ]
    }
   ],
   "source": [
    "import whisper\n",
    "\n",
    "# Load the Whisper model\n",
    "whisper_model = whisper.load_model(\"base\")\n",
    "\n",
    "# Transcribe audio file\n",
    "result = whisper_model.transcribe(\"/content/QuadCommandOne.m4a\")\n",
    "raw_text = result[\"text\"]\n",
    "\n",
    "print(\"Raw Transcription:\", raw_text)\n"
   ]
  },
  {
   "cell_type": "markdown",
   "metadata": {
    "id": "tsRCBFfCWCPw"
   },
   "source": [
    "# Refining Raw text using flan-t5 model"
   ]
  },
  {
   "cell_type": "code",
   "execution_count": 3,
   "metadata": {
    "id": "_WT1kdj6tHqZ"
   },
   "outputs": [],
   "source": [
    "!pip install -q transformers\n"
   ]
  },
  {
   "cell_type": "code",
   "execution_count": null,
   "metadata": {
    "colab": {
     "base_uri": "https://localhost:8080/",
     "height": 417,
     "referenced_widgets": [
      "4387519a9b304f468c0ebd6d6e5131e8",
      "aa6106aa876b45e78aec1f56ca85e1b1",
      "5538dc99f1d5400082eeac50e0bde5d7",
      "c9c9630766574f2291c57a579ce87335",
      "2467f3559f694053ad86140a65f911bb",
      "3d46c52fb58b4d12b7e11e5bb5e79115",
      "0032125d98384110907df0703a19d90d",
      "13b0b70b85024978a94e6c2bb62fa2f9",
      "03932df2ec0c49a9a0ad9e42058d74b9",
      "cd04e8d2e55448fcb308fe6caea90268",
      "a215a987918b4789bbb483c266e9f192",
      "8dea10ea231c4bbc88e0d8ec5b12d871",
      "c1d925a725b6403d8f1d99ad14c7ccc1",
      "3d817487ae90439fa39602a2d17dfeff",
      "f7615f5ea26a45d7a65c4aafd992b059",
      "8b43f079b1554db9886d8acb0bb2daa1",
      "a54c8a74c371412e99b025547baadda3",
      "5392531ef9364ac0a9ca82fbfbbb390b",
      "c5d930488554431a9b049ef1a3fde913",
      "c31adb3f718d4b5fa860066928aa46ef",
      "89dd4ca8510648eda3b446143bd0f254",
      "7ee8e8c9871f4612989e8a6dfa26f8a3",
      "cc9852a3970c497197fb7368b67b4e76",
      "508977f10b384f12ae93dff293391f80",
      "ca3e56bbd3ff43ccadb1232c6330a88c",
      "be9b30a0a8cc414f8c65ae420f5c3136",
      "2eccf0a74420455b8c01fd372cd6d344",
      "94b872df62c34ebdb956befa47dc9912",
      "553896e2c6ee49da9864f502106d4c6c",
      "52c3437cd376423cb04b30923b3bcca0",
      "f90c31ee6dfd494eaa8c1d996f980886",
      "1e41befd18c44184bebbc84caddd2835",
      "113214d054b54275b0b58abc526ef330",
      "8b1c661f871c46838e84b787d3be0c83",
      "de5687b815504728b1821266174aac0c",
      "f6c429692a5446848c150c506ac6b89b",
      "8afc303a71144beeae79cc3aea2c427a",
      "bd7b822550a94a8eb158d75247a075a7",
      "da18f645bdce4bd6a4b94704bed91284",
      "94a6f37a562b4f60a7b3e804a34a4b83",
      "0feb964714964cb0ab2afce5d53b3a95",
      "eba57e874f7d4a2fa439337083e7426a",
      "b91ccef2d6fd4d2faf9d911e8ad6101b",
      "7b110336ce7f42208f43d8d6d5fd6888",
      "9d0989c9f4864cc29ca334ea256fd921",
      "a9c9fb4670ac4ca2a9ba79ee538fbcb3",
      "e08e7d87932745d7abed517b6ab20bee",
      "7000e075e7fc4a21b2f10cd1895fb4e2",
      "be1dbca9b26b4dac8fa16532473076e8",
      "78035b8eeecd4cfb9cf00d9f95257abf",
      "52229d33e57340a98cb0331bc7b0b50c",
      "1c8734e7840144d3a0032a7b47105421",
      "403f607ceac44d6580af6034cd35154a",
      "699835f407a54cac9ec6d9cce5a226c9",
      "9484d2e96c184a668a42c265b2d1e830",
      "8459a4f08bea4722a1e72ece5e42edc5",
      "a62a0a037bb3470981a572698f770fc6",
      "1182f54e1ce74e70b3e77ddc237b94ad",
      "26b8f00e548d4ff3828c4b1cf724c7fb",
      "213fce4f9b424839aa36000f0515bdd6",
      "6f8988e3599e4403901a2f4e6d4583e4",
      "d9f5e727a25546eda01670db528d4925",
      "80b4feb6833a43f688bb15c97e49e5c2",
      "cf18b2e9d13a4a10b587472659b32eb9",
      "e556d546b07347d8841a7356bf80f943",
      "cf30a66c205a47cb994785ad4e1bb32b",
      "ac9897f23e9e43ffb951b725d03e6aa8",
      "7606dc083f294327a3ff52826157bc94",
      "78d4af0dbbf54c04ba2a3234c9ba396c",
      "4188994da3c840db8e3fd45a0aaa9f83",
      "940b9b0d688a442dac3000a41840db2d",
      "3fc9e2a895be4207a5835eb811d6bf8c",
      "431126532c434835a74d94c3b240bd12",
      "9fae01af81364283a1b11ab0eb6ca51b",
      "3273b0d3551a467cb33ceee77c9c90af",
      "b5090dc16a384e948f93bc345866e6c5",
      "161e13c2414b4595b2c2723f81764645"
     ]
    },
    "id": "FCcko84vuIuL",
    "outputId": "6f2fba57-3356-45bb-cc3b-9274c4d91f07"
   },
   "outputs": [
    {
     "name": "stderr",
     "output_type": "stream",
     "text": [
      "/usr/local/lib/python3.11/dist-packages/huggingface_hub/utils/_auth.py:94: UserWarning: \n",
      "The secret `HF_TOKEN` does not exist in your Colab secrets.\n",
      "To authenticate with the Hugging Face Hub, create a token in your settings tab (https://huggingface.co/settings/tokens), set it as secret in your Google Colab and restart your session.\n",
      "You will be able to reuse this secret in all of your notebooks.\n",
      "Please note that authentication is recommended but still optional to access public models or datasets.\n",
      "  warnings.warn(\n"
     ]
    },
    {
     "data": {
      "application/vnd.jupyter.widget-view+json": {
       "model_id": "4387519a9b304f468c0ebd6d6e5131e8",
       "version_major": 2,
       "version_minor": 0
      },
      "text/plain": [
       "tokenizer_config.json: 0.00B [00:00, ?B/s]"
      ]
     },
     "metadata": {},
     "output_type": "display_data"
    },
    {
     "data": {
      "application/vnd.jupyter.widget-view+json": {
       "model_id": "8dea10ea231c4bbc88e0d8ec5b12d871",
       "version_major": 2,
       "version_minor": 0
      },
      "text/plain": [
       "spiece.model:   0%|          | 0.00/792k [00:00<?, ?B/s]"
      ]
     },
     "metadata": {},
     "output_type": "display_data"
    },
    {
     "data": {
      "application/vnd.jupyter.widget-view+json": {
       "model_id": "cc9852a3970c497197fb7368b67b4e76",
       "version_major": 2,
       "version_minor": 0
      },
      "text/plain": [
       "tokenizer.json: 0.00B [00:00, ?B/s]"
      ]
     },
     "metadata": {},
     "output_type": "display_data"
    },
    {
     "data": {
      "application/vnd.jupyter.widget-view+json": {
       "model_id": "8b1c661f871c46838e84b787d3be0c83",
       "version_major": 2,
       "version_minor": 0
      },
      "text/plain": [
       "special_tokens_map.json: 0.00B [00:00, ?B/s]"
      ]
     },
     "metadata": {},
     "output_type": "display_data"
    },
    {
     "data": {
      "application/vnd.jupyter.widget-view+json": {
       "model_id": "9d0989c9f4864cc29ca334ea256fd921",
       "version_major": 2,
       "version_minor": 0
      },
      "text/plain": [
       "config.json: 0.00B [00:00, ?B/s]"
      ]
     },
     "metadata": {},
     "output_type": "display_data"
    },
    {
     "data": {
      "application/vnd.jupyter.widget-view+json": {
       "model_id": "8459a4f08bea4722a1e72ece5e42edc5",
       "version_major": 2,
       "version_minor": 0
      },
      "text/plain": [
       "model.safetensors:   0%|          | 0.00/990M [00:00<?, ?B/s]"
      ]
     },
     "metadata": {},
     "output_type": "display_data"
    },
    {
     "data": {
      "application/vnd.jupyter.widget-view+json": {
       "model_id": "ac9897f23e9e43ffb951b725d03e6aa8",
       "version_major": 2,
       "version_minor": 0
      },
      "text/plain": [
       "generation_config.json:   0%|          | 0.00/147 [00:00<?, ?B/s]"
      ]
     },
     "metadata": {},
     "output_type": "display_data"
    },
    {
     "name": "stderr",
     "output_type": "stream",
     "text": [
      "Device set to use cuda:0\n",
      "Both `max_new_tokens` (=256) and `max_length`(=100) seem to have been set. `max_new_tokens` will take precedence. Please refer to the documentation for more information. (https://huggingface.co/docs/transformers/main/en/main_classes/text_generation)\n"
     ]
    },
    {
     "name": "stdout",
     "output_type": "stream",
     "text": [
      "✅ Cleaned Text: Drone, take off and after that move forward and then hold there.\n"
     ]
    }
   ],
   "source": [
    "from transformers import AutoTokenizer, AutoModelForSeq2SeqLM, pipeline\n",
    "\n",
    "# Load Flan-T5\n",
    "model_name = \"google/flan-t5-base\"\n",
    "tokenizer = AutoTokenizer.from_pretrained(model_name)\n",
    "model = AutoModelForSeq2SeqLM.from_pretrained(model_name)\n",
    "\n",
    "# Define the correction prompt\n",
    "from transformers import pipeline\n",
    "corrector = pipeline(\"text2text-generation\", model=model, tokenizer=tokenizer)\n",
    "\n",
    "instruction = f\"the following text has come from speech to text coversion where speech is related to drone,correct the raw text:\\n{raw_text}\"\n",
    "\n",
    "# Get response\n",
    "result = corrector(instruction, max_length=100)\n",
    "cleaned_text = result[0]['generated_text']\n",
    "\n",
    "print(\"Cleaned Text:\", result[0]['generated_text'])\n"
   ]
  },
  {
   "cell_type": "markdown",
   "metadata": {
    "id": "E_VTFanSWMM8"
   },
   "source": [
    "# Setting up openai api key"
   ]
  },
  {
   "cell_type": "code",
   "execution_count": 5,
   "metadata": {
    "colab": {
     "base_uri": "https://localhost:8080/"
    },
    "id": "X_bHOLgUuXen",
    "outputId": "54757c56-8b77-43e8-f23a-878bae806978"
   },
   "outputs": [
    {
     "name": "stdout",
     "output_type": "stream",
     "text": [
      "Requirement already satisfied: openai in /usr/local/lib/python3.11/dist-packages (1.96.1)\n",
      "Requirement already satisfied: anyio<5,>=3.5.0 in /usr/local/lib/python3.11/dist-packages (from openai) (4.9.0)\n",
      "Requirement already satisfied: distro<2,>=1.7.0 in /usr/local/lib/python3.11/dist-packages (from openai) (1.9.0)\n",
      "Requirement already satisfied: httpx<1,>=0.23.0 in /usr/local/lib/python3.11/dist-packages (from openai) (0.28.1)\n",
      "Requirement already satisfied: jiter<1,>=0.4.0 in /usr/local/lib/python3.11/dist-packages (from openai) (0.10.0)\n",
      "Requirement already satisfied: pydantic<3,>=1.9.0 in /usr/local/lib/python3.11/dist-packages (from openai) (2.11.7)\n",
      "Requirement already satisfied: sniffio in /usr/local/lib/python3.11/dist-packages (from openai) (1.3.1)\n",
      "Requirement already satisfied: tqdm>4 in /usr/local/lib/python3.11/dist-packages (from openai) (4.67.1)\n",
      "Requirement already satisfied: typing-extensions<5,>=4.11 in /usr/local/lib/python3.11/dist-packages (from openai) (4.14.1)\n",
      "Requirement already satisfied: idna>=2.8 in /usr/local/lib/python3.11/dist-packages (from anyio<5,>=3.5.0->openai) (3.10)\n",
      "Requirement already satisfied: certifi in /usr/local/lib/python3.11/dist-packages (from httpx<1,>=0.23.0->openai) (2025.7.14)\n",
      "Requirement already satisfied: httpcore==1.* in /usr/local/lib/python3.11/dist-packages (from httpx<1,>=0.23.0->openai) (1.0.9)\n",
      "Requirement already satisfied: h11>=0.16 in /usr/local/lib/python3.11/dist-packages (from httpcore==1.*->httpx<1,>=0.23.0->openai) (0.16.0)\n",
      "Requirement already satisfied: annotated-types>=0.6.0 in /usr/local/lib/python3.11/dist-packages (from pydantic<3,>=1.9.0->openai) (0.7.0)\n",
      "Requirement already satisfied: pydantic-core==2.33.2 in /usr/local/lib/python3.11/dist-packages (from pydantic<3,>=1.9.0->openai) (2.33.2)\n",
      "Requirement already satisfied: typing-inspection>=0.4.0 in /usr/local/lib/python3.11/dist-packages (from pydantic<3,>=1.9.0->openai) (0.4.1)\n"
     ]
    }
   ],
   "source": [
    "!pip install openai\n"
   ]
  },
  {
   "cell_type": "code",
   "execution_count": null,
   "metadata": {
    "id": "hMOnUAKrx5-C"
   },
   "outputs": [],
   "source": [
    "from openai import OpenAI\n",
    "import os\n",
    "\n",
    "client = OpenAI(api_key=\"My API Key\")  \n"
   ]
  },
  {
   "cell_type": "markdown",
   "metadata": {
    "id": "ivbSffJ0WQV_"
   },
   "source": [
    "# Generating code from text in accordance with necessary prompts"
   ]
  },
  {
   "cell_type": "code",
   "execution_count": 10,
   "metadata": {
    "id": "pPpnSx01zw0L"
   },
   "outputs": [],
   "source": [
    "def generate_mavsdk_code(command_text):\n",
    "    prompt = f\"\"\"\n",
    "You are an expert in MAVSDK Python library for drone programming . Convert the following natural language instruction into valid MAVSDK Python code.\n",
    "\n",
    "Instruction:\n",
    "\"{command_text}\"\n",
    "\n",
    "Your response should be a complete, working script using MAVSDK, using async/await, drone connection, arming, flight steps, and return to home if needed. Output only code.Remember to execute instuctions only.\n",
    "In order to move drone in forward,backward,left,right ,up,down direction use this :\n",
    "   print(\"-- Setting initial setpoint\")\n",
    "    await drone.offboard.set_velocity_body(\n",
    "        VelocityBodyYawspeed(0.0, 0.0, 0.0, 0.0))\n",
    "\n",
    "    print(\"-- drone attitude control\")\n",
    "    await drone.offboard.set_velocity_body(\n",
    "        VelocityBodyYawspeed(0.0, 0.0, 0.0, 0.0))\n",
    "    await asyncio.sleep(5)\n",
    "\n",
    "in this the parameters are in order (Vx,Vy,Vz,yaw velocity).\n",
    "\n",
    "in order to execute a circle use :\n",
    "\"    print(\"-- Fly a circle\")\n",
    "    await drone.offboard.set_velocity_body(\n",
    "        VelocityBodyYawspeed(5.0, 0.0, 0.0, 30.0))\n",
    "    await asyncio.sleep(5)\n",
    "\"\n",
    "\"\"\"\n",
    "\n",
    "    response = client.chat.completions.create(\n",
    "        model=\"gpt-4o\",\n",
    "        messages=[{\"role\": \"user\", \"content\": prompt}],\n",
    "        temperature=0.1\n",
    "    )\n",
    "\n",
    "    return response.choices[0].message.content\n"
   ]
  },
  {
   "cell_type": "code",
   "execution_count": 11,
   "metadata": {
    "colab": {
     "base_uri": "https://localhost:8080/"
    },
    "id": "bOXzxchA3yTr",
    "outputId": "3c5690ed-36cf-44b1-8dd5-297ef2160037"
   },
   "outputs": [
    {
     "name": "stdout",
     "output_type": "stream",
     "text": [
      "Generated MAVSDK Code:\n",
      "\n",
      "```python\n",
      "import asyncio\n",
      "from mavsdk import System\n",
      "from mavsdk.offboard import VelocityBodyYawspeed\n",
      "\n",
      "async def run():\n",
      "    drone = System()\n",
      "    await drone.connect(system_address=\"udp://:14540\")\n",
      "\n",
      "    print(\"Waiting for drone to connect...\")\n",
      "    async for state in drone.core.connection_state():\n",
      "        if state.is_connected:\n",
      "            print(f\"Drone discovered!\")\n",
      "            break\n",
      "\n",
      "    print(\"-- Arming\")\n",
      "    await drone.action.arm()\n",
      "\n",
      "    print(\"-- Taking off\")\n",
      "    await drone.action.takeoff()\n",
      "    await asyncio.sleep(5)\n",
      "\n",
      "    print(\"-- Setting initial setpoint\")\n",
      "    await drone.offboard.set_velocity_body(\n",
      "        VelocityBodyYawspeed(0.0, 0.0, 0.0, 0.0))\n",
      "\n",
      "    print(\"-- Starting offboard\")\n",
      "    try:\n",
      "        await drone.offboard.start()\n",
      "    except Exception as e:\n",
      "        print(f\"Failed to start offboard mode: {e}\")\n",
      "        return\n",
      "\n",
      "    print(\"-- Moving forward\")\n",
      "    await drone.offboard.set_velocity_body(\n",
      "        VelocityBodyYawspeed(5.0, 0.0, 0.0, 0.0))\n",
      "    await asyncio.sleep(5)\n",
      "\n",
      "    print(\"-- Holding position\")\n",
      "    await drone.offboard.set_velocity_body(\n",
      "        VelocityBodyYawspeed(0.0, 0.0, 0.0, 0.0))\n",
      "    await asyncio.sleep(5)\n",
      "\n",
      "    print(\"-- Stopping offboard\")\n",
      "    try:\n",
      "        await drone.offboard.stop()\n",
      "    except Exception as e:\n",
      "        print(f\"Failed to stop offboard mode: {e}\")\n",
      "\n",
      "    print(\"-- Returning to launch\")\n",
      "    await drone.action.return_to_launch()\n",
      "\n",
      "if __name__ == \"__main__\":\n",
      "    loop = asyncio.get_event_loop()\n",
      "    loop.run_until_complete(run())\n",
      "```\n",
      "\n"
     ]
    }
   ],
   "source": [
    "final_code = generate_mavsdk_code(cleaned_text)\n",
    "print(\"Generated MAVSDK Code:\\n\")\n",
    "print(final_code)\n"
   ]
  },
  {
   "cell_type": "markdown",
   "metadata": {
    "id": "uzw314iNWUNO"
   },
   "source": [
    "# The above code is tested on quadcopter in simulation\n"
   ]
  }
 ],
 "metadata": {
  "accelerator": "GPU",
  "colab": {
   "gpuType": "T4",
   "provenance": []
  },
  "kernelspec": {
   "display_name": "Python 3",
   "name": "python3"
  },
  "language_info": {
   "name": "python"
  }
 },
 "nbformat": 4,
 "nbformat_minor": 0
}
